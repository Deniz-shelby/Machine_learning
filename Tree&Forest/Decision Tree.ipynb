{
 "cells": [
  {
   "cell_type": "code",
   "execution_count": 19,
   "id": "5e258e76",
   "metadata": {},
   "outputs": [],
   "source": [
    "import pandas as pd\n",
    "import numpy as np\n",
    "from sklearn.datasets import load_iris\n",
    "from sklearn.model_selection import train_test_split, cross_val_score\n",
    "from sklearn.tree import DecisionTreeClassifier\n",
    "from sklearn.metrics import classification_report, confusion_matrix, accuracy_score\n",
    "from sklearn.model_selection import GridSearchCV\n"
   ]
  },
  {
   "cell_type": "code",
   "execution_count": 3,
   "id": "7ae50907",
   "metadata": {},
   "outputs": [],
   "source": [
    "data = load_iris()"
   ]
  },
  {
   "cell_type": "code",
   "execution_count": 4,
   "id": "d86b2260",
   "metadata": {},
   "outputs": [],
   "source": [
    "X = data.data\n",
    "y = data.target"
   ]
  },
  {
   "cell_type": "code",
   "execution_count": 5,
   "id": "4c2ea6f0",
   "metadata": {},
   "outputs": [],
   "source": [
    "X_train, X_test, y_train, y_test = train_test_split(X,y, test_size=0.2, random_state = 42)"
   ]
  },
  {
   "cell_type": "code",
   "execution_count": 8,
   "id": "4ce2413d",
   "metadata": {},
   "outputs": [
    {
     "name": "stdout",
     "output_type": "stream",
     "text": [
      "{'ccp_alpha': 0.0, 'class_weight': None, 'criterion': 'gini', 'max_depth': None, 'max_features': None, 'max_leaf_nodes': None, 'min_impurity_decrease': 0.0, 'min_impurity_split': None, 'min_samples_leaf': 1, 'min_samples_split': 2, 'min_weight_fraction_leaf': 0.0, 'random_state': None, 'splitter': 'best'}\n"
     ]
    },
    {
     "data": {
      "text/plain": [
       "GridSearchCV(cv=4, estimator=DecisionTreeClassifier(),\n",
       "             param_grid={'criterion': ['gini', 'entropy'], 'max_depth': [1, 2],\n",
       "                         'splitter': ['best', 'random']})"
      ]
     },
     "execution_count": 8,
     "metadata": {},
     "output_type": "execute_result"
    }
   ],
   "source": [
    "model = DecisionTreeClassifier()\n",
    "\n",
    "print(model.get_params())\n",
    "\n",
    "\n",
    "grid = GridSearchCV(estimator=model, \n",
    "                   param_grid={'criterion': ['gini', 'entropy'],\n",
    "                               'splitter': ['best', 'random'],\n",
    "                               'max_depth': [1,2]},\n",
    "                    cv=4)\n",
    "grid.fit(X_train,y_train)\n"
   ]
  },
  {
   "cell_type": "code",
   "execution_count": 9,
   "id": "3ed4438a",
   "metadata": {},
   "outputs": [
    {
     "data": {
      "text/html": [
       "<div>\n",
       "<style scoped>\n",
       "    .dataframe tbody tr th:only-of-type {\n",
       "        vertical-align: middle;\n",
       "    }\n",
       "\n",
       "    .dataframe tbody tr th {\n",
       "        vertical-align: top;\n",
       "    }\n",
       "\n",
       "    .dataframe thead th {\n",
       "        text-align: right;\n",
       "    }\n",
       "</style>\n",
       "<table border=\"1\" class=\"dataframe\">\n",
       "  <thead>\n",
       "    <tr style=\"text-align: right;\">\n",
       "      <th></th>\n",
       "      <th>mean_fit_time</th>\n",
       "      <th>std_fit_time</th>\n",
       "      <th>mean_score_time</th>\n",
       "      <th>std_score_time</th>\n",
       "      <th>param_criterion</th>\n",
       "      <th>param_max_depth</th>\n",
       "      <th>param_splitter</th>\n",
       "      <th>params</th>\n",
       "      <th>split0_test_score</th>\n",
       "      <th>split1_test_score</th>\n",
       "      <th>split2_test_score</th>\n",
       "      <th>split3_test_score</th>\n",
       "      <th>mean_test_score</th>\n",
       "      <th>std_test_score</th>\n",
       "      <th>rank_test_score</th>\n",
       "    </tr>\n",
       "  </thead>\n",
       "  <tbody>\n",
       "    <tr>\n",
       "      <th>0</th>\n",
       "      <td>0.003988</td>\n",
       "      <td>0.000853</td>\n",
       "      <td>0.001436</td>\n",
       "      <td>0.000870</td>\n",
       "      <td>gini</td>\n",
       "      <td>1</td>\n",
       "      <td>best</td>\n",
       "      <td>{'criterion': 'gini', 'max_depth': 1, 'splitte...</td>\n",
       "      <td>0.700000</td>\n",
       "      <td>0.666667</td>\n",
       "      <td>0.666667</td>\n",
       "      <td>0.666667</td>\n",
       "      <td>0.675000</td>\n",
       "      <td>0.014434</td>\n",
       "      <td>5</td>\n",
       "    </tr>\n",
       "    <tr>\n",
       "      <th>1</th>\n",
       "      <td>0.005373</td>\n",
       "      <td>0.006333</td>\n",
       "      <td>0.001909</td>\n",
       "      <td>0.001570</td>\n",
       "      <td>gini</td>\n",
       "      <td>1</td>\n",
       "      <td>random</td>\n",
       "      <td>{'criterion': 'gini', 'max_depth': 1, 'splitte...</td>\n",
       "      <td>0.633333</td>\n",
       "      <td>0.666667</td>\n",
       "      <td>0.666667</td>\n",
       "      <td>0.666667</td>\n",
       "      <td>0.658333</td>\n",
       "      <td>0.014434</td>\n",
       "      <td>7</td>\n",
       "    </tr>\n",
       "    <tr>\n",
       "      <th>2</th>\n",
       "      <td>0.003399</td>\n",
       "      <td>0.002321</td>\n",
       "      <td>0.005065</td>\n",
       "      <td>0.003915</td>\n",
       "      <td>gini</td>\n",
       "      <td>2</td>\n",
       "      <td>best</td>\n",
       "      <td>{'criterion': 'gini', 'max_depth': 2, 'splitte...</td>\n",
       "      <td>0.966667</td>\n",
       "      <td>0.866667</td>\n",
       "      <td>0.933333</td>\n",
       "      <td>0.933333</td>\n",
       "      <td>0.925000</td>\n",
       "      <td>0.036324</td>\n",
       "      <td>1</td>\n",
       "    </tr>\n",
       "    <tr>\n",
       "      <th>3</th>\n",
       "      <td>0.003549</td>\n",
       "      <td>0.002732</td>\n",
       "      <td>0.005596</td>\n",
       "      <td>0.006769</td>\n",
       "      <td>gini</td>\n",
       "      <td>2</td>\n",
       "      <td>random</td>\n",
       "      <td>{'criterion': 'gini', 'max_depth': 2, 'splitte...</td>\n",
       "      <td>0.933333</td>\n",
       "      <td>0.900000</td>\n",
       "      <td>0.700000</td>\n",
       "      <td>0.733333</td>\n",
       "      <td>0.816667</td>\n",
       "      <td>0.101379</td>\n",
       "      <td>3</td>\n",
       "    </tr>\n",
       "    <tr>\n",
       "      <th>4</th>\n",
       "      <td>0.005500</td>\n",
       "      <td>0.003431</td>\n",
       "      <td>0.001605</td>\n",
       "      <td>0.000624</td>\n",
       "      <td>entropy</td>\n",
       "      <td>1</td>\n",
       "      <td>best</td>\n",
       "      <td>{'criterion': 'entropy', 'max_depth': 1, 'spli...</td>\n",
       "      <td>0.700000</td>\n",
       "      <td>0.666667</td>\n",
       "      <td>0.666667</td>\n",
       "      <td>0.666667</td>\n",
       "      <td>0.675000</td>\n",
       "      <td>0.014434</td>\n",
       "      <td>5</td>\n",
       "    </tr>\n",
       "    <tr>\n",
       "      <th>5</th>\n",
       "      <td>0.002977</td>\n",
       "      <td>0.001722</td>\n",
       "      <td>0.001703</td>\n",
       "      <td>0.000896</td>\n",
       "      <td>entropy</td>\n",
       "      <td>1</td>\n",
       "      <td>random</td>\n",
       "      <td>{'criterion': 'entropy', 'max_depth': 1, 'spli...</td>\n",
       "      <td>0.533333</td>\n",
       "      <td>0.666667</td>\n",
       "      <td>0.666667</td>\n",
       "      <td>0.666667</td>\n",
       "      <td>0.633333</td>\n",
       "      <td>0.057735</td>\n",
       "      <td>8</td>\n",
       "    </tr>\n",
       "    <tr>\n",
       "      <th>6</th>\n",
       "      <td>0.004659</td>\n",
       "      <td>0.003306</td>\n",
       "      <td>0.005992</td>\n",
       "      <td>0.005296</td>\n",
       "      <td>entropy</td>\n",
       "      <td>2</td>\n",
       "      <td>best</td>\n",
       "      <td>{'criterion': 'entropy', 'max_depth': 2, 'spli...</td>\n",
       "      <td>0.966667</td>\n",
       "      <td>0.866667</td>\n",
       "      <td>0.933333</td>\n",
       "      <td>0.933333</td>\n",
       "      <td>0.925000</td>\n",
       "      <td>0.036324</td>\n",
       "      <td>1</td>\n",
       "    </tr>\n",
       "    <tr>\n",
       "      <th>7</th>\n",
       "      <td>0.003518</td>\n",
       "      <td>0.002855</td>\n",
       "      <td>0.002189</td>\n",
       "      <td>0.001644</td>\n",
       "      <td>entropy</td>\n",
       "      <td>2</td>\n",
       "      <td>random</td>\n",
       "      <td>{'criterion': 'entropy', 'max_depth': 2, 'spli...</td>\n",
       "      <td>1.000000</td>\n",
       "      <td>0.800000</td>\n",
       "      <td>0.700000</td>\n",
       "      <td>0.733333</td>\n",
       "      <td>0.808333</td>\n",
       "      <td>0.116369</td>\n",
       "      <td>4</td>\n",
       "    </tr>\n",
       "  </tbody>\n",
       "</table>\n",
       "</div>"
      ],
      "text/plain": [
       "   mean_fit_time  std_fit_time  mean_score_time  std_score_time  \\\n",
       "0       0.003988      0.000853         0.001436        0.000870   \n",
       "1       0.005373      0.006333         0.001909        0.001570   \n",
       "2       0.003399      0.002321         0.005065        0.003915   \n",
       "3       0.003549      0.002732         0.005596        0.006769   \n",
       "4       0.005500      0.003431         0.001605        0.000624   \n",
       "5       0.002977      0.001722         0.001703        0.000896   \n",
       "6       0.004659      0.003306         0.005992        0.005296   \n",
       "7       0.003518      0.002855         0.002189        0.001644   \n",
       "\n",
       "  param_criterion param_max_depth param_splitter  \\\n",
       "0            gini               1           best   \n",
       "1            gini               1         random   \n",
       "2            gini               2           best   \n",
       "3            gini               2         random   \n",
       "4         entropy               1           best   \n",
       "5         entropy               1         random   \n",
       "6         entropy               2           best   \n",
       "7         entropy               2         random   \n",
       "\n",
       "                                              params  split0_test_score  \\\n",
       "0  {'criterion': 'gini', 'max_depth': 1, 'splitte...           0.700000   \n",
       "1  {'criterion': 'gini', 'max_depth': 1, 'splitte...           0.633333   \n",
       "2  {'criterion': 'gini', 'max_depth': 2, 'splitte...           0.966667   \n",
       "3  {'criterion': 'gini', 'max_depth': 2, 'splitte...           0.933333   \n",
       "4  {'criterion': 'entropy', 'max_depth': 1, 'spli...           0.700000   \n",
       "5  {'criterion': 'entropy', 'max_depth': 1, 'spli...           0.533333   \n",
       "6  {'criterion': 'entropy', 'max_depth': 2, 'spli...           0.966667   \n",
       "7  {'criterion': 'entropy', 'max_depth': 2, 'spli...           1.000000   \n",
       "\n",
       "   split1_test_score  split2_test_score  split3_test_score  mean_test_score  \\\n",
       "0           0.666667           0.666667           0.666667         0.675000   \n",
       "1           0.666667           0.666667           0.666667         0.658333   \n",
       "2           0.866667           0.933333           0.933333         0.925000   \n",
       "3           0.900000           0.700000           0.733333         0.816667   \n",
       "4           0.666667           0.666667           0.666667         0.675000   \n",
       "5           0.666667           0.666667           0.666667         0.633333   \n",
       "6           0.866667           0.933333           0.933333         0.925000   \n",
       "7           0.800000           0.700000           0.733333         0.808333   \n",
       "\n",
       "   std_test_score  rank_test_score  \n",
       "0        0.014434                5  \n",
       "1        0.014434                7  \n",
       "2        0.036324                1  \n",
       "3        0.101379                3  \n",
       "4        0.014434                5  \n",
       "5        0.057735                8  \n",
       "6        0.036324                1  \n",
       "7        0.116369                4  "
      ]
     },
     "execution_count": 9,
     "metadata": {},
     "output_type": "execute_result"
    }
   ],
   "source": [
    "df_grid = pd.DataFrame(grid.cv_results_)\n",
    "df_grid"
   ]
  },
  {
   "cell_type": "code",
   "execution_count": 10,
   "id": "31745617",
   "metadata": {
    "scrolled": true
   },
   "outputs": [],
   "source": [
    "y_pred = grid.predict(X_test)"
   ]
  },
  {
   "cell_type": "code",
   "execution_count": 11,
   "id": "e009289a",
   "metadata": {},
   "outputs": [
    {
     "name": "stdout",
     "output_type": "stream",
     "text": [
      "[0.9  0.9  0.95]\n",
      "[[10  0  0]\n",
      " [ 0  8  1]\n",
      " [ 0  0 11]]\n",
      "              precision    recall  f1-score   support\n",
      "\n",
      "           0       1.00      1.00      1.00        10\n",
      "           1       1.00      0.89      0.94         9\n",
      "           2       0.92      1.00      0.96        11\n",
      "\n",
      "    accuracy                           0.97        30\n",
      "   macro avg       0.97      0.96      0.97        30\n",
      "weighted avg       0.97      0.97      0.97        30\n",
      "\n"
     ]
    }
   ],
   "source": [
    "print(cross_val_score(grid, X_train, y_train, cv=3))\n",
    "print(confusion_matrix(y_test, y_pred))\n",
    "print(classification_report(y_test, y_pred))"
   ]
  },
  {
   "cell_type": "markdown",
   "id": "bd07cdac",
   "metadata": {},
   "source": [
    "# Zoo Data"
   ]
  },
  {
   "cell_type": "code",
   "execution_count": 12,
   "id": "981b9f4c",
   "metadata": {},
   "outputs": [],
   "source": [
    "zoo_data = pd.read_csv('zoo.data', header = None)\n"
   ]
  },
  {
   "cell_type": "code",
   "execution_count": 13,
   "id": "f343edfe",
   "metadata": {},
   "outputs": [],
   "source": [
    "X = zoo_data.iloc[:,1:16]\n",
    "y = zoo_data[17]"
   ]
  },
  {
   "cell_type": "code",
   "execution_count": 22,
   "id": "e599218c",
   "metadata": {},
   "outputs": [],
   "source": [
    "X_train, X_test, y_train, y_test = train_test_split(X,y, test_size=0.2, random_state = 42)"
   ]
  },
  {
   "cell_type": "code",
   "execution_count": 23,
   "id": "63658318",
   "metadata": {},
   "outputs": [],
   "source": [
    "model = DecisionTreeClassifier()"
   ]
  },
  {
   "cell_type": "code",
   "execution_count": 24,
   "id": "aaa7e07b",
   "metadata": {},
   "outputs": [
    {
     "data": {
      "text/plain": [
       "DecisionTreeClassifier()"
      ]
     },
     "execution_count": 24,
     "metadata": {},
     "output_type": "execute_result"
    }
   ],
   "source": [
    "model.fit(X_train,y_train)"
   ]
  },
  {
   "cell_type": "code",
   "execution_count": 25,
   "id": "37e44c5b",
   "metadata": {},
   "outputs": [],
   "source": [
    "y_pred = model.predict(X_test)"
   ]
  },
  {
   "cell_type": "code",
   "execution_count": 26,
   "id": "46d4f634",
   "metadata": {},
   "outputs": [
    {
     "name": "stdout",
     "output_type": "stream",
     "text": [
      "[0.96296296 1.         0.96153846]\n",
      "[[12  0  0  0  0  0  0]\n",
      " [ 0  2  0  0  0  0  0]\n",
      " [ 0  0  0  0  1  0  0]\n",
      " [ 0  0  0  2  0  0  0]\n",
      " [ 0  0  0  0  0  0  0]\n",
      " [ 0  0  0  0  0  3  0]\n",
      " [ 0  0  0  0  0  0  1]]\n",
      "              precision    recall  f1-score   support\n",
      "\n",
      "           1       1.00      1.00      1.00        12\n",
      "           2       1.00      1.00      1.00         2\n",
      "           3       0.00      0.00      0.00         1\n",
      "           4       1.00      1.00      1.00         2\n",
      "           5       0.00      0.00      0.00         0\n",
      "           6       1.00      1.00      1.00         3\n",
      "           7       1.00      1.00      1.00         1\n",
      "\n",
      "    accuracy                           0.95        21\n",
      "   macro avg       0.71      0.71      0.71        21\n",
      "weighted avg       0.95      0.95      0.95        21\n",
      "\n"
     ]
    },
    {
     "name": "stderr",
     "output_type": "stream",
     "text": [
      "/opt/anaconda3/envs/ml/lib/python3.8/site-packages/sklearn/metrics/_classification.py:1245: UndefinedMetricWarning: Precision and F-score are ill-defined and being set to 0.0 in labels with no predicted samples. Use `zero_division` parameter to control this behavior.\n",
      "  _warn_prf(average, modifier, msg_start, len(result))\n",
      "/opt/anaconda3/envs/ml/lib/python3.8/site-packages/sklearn/metrics/_classification.py:1245: UndefinedMetricWarning: Recall and F-score are ill-defined and being set to 0.0 in labels with no true samples. Use `zero_division` parameter to control this behavior.\n",
      "  _warn_prf(average, modifier, msg_start, len(result))\n",
      "/opt/anaconda3/envs/ml/lib/python3.8/site-packages/sklearn/metrics/_classification.py:1245: UndefinedMetricWarning: Precision and F-score are ill-defined and being set to 0.0 in labels with no predicted samples. Use `zero_division` parameter to control this behavior.\n",
      "  _warn_prf(average, modifier, msg_start, len(result))\n",
      "/opt/anaconda3/envs/ml/lib/python3.8/site-packages/sklearn/metrics/_classification.py:1245: UndefinedMetricWarning: Recall and F-score are ill-defined and being set to 0.0 in labels with no true samples. Use `zero_division` parameter to control this behavior.\n",
      "  _warn_prf(average, modifier, msg_start, len(result))\n",
      "/opt/anaconda3/envs/ml/lib/python3.8/site-packages/sklearn/metrics/_classification.py:1245: UndefinedMetricWarning: Precision and F-score are ill-defined and being set to 0.0 in labels with no predicted samples. Use `zero_division` parameter to control this behavior.\n",
      "  _warn_prf(average, modifier, msg_start, len(result))\n",
      "/opt/anaconda3/envs/ml/lib/python3.8/site-packages/sklearn/metrics/_classification.py:1245: UndefinedMetricWarning: Recall and F-score are ill-defined and being set to 0.0 in labels with no true samples. Use `zero_division` parameter to control this behavior.\n",
      "  _warn_prf(average, modifier, msg_start, len(result))\n"
     ]
    }
   ],
   "source": [
    "print(cross_val_score(model, X_train, y_train, cv=3))\n",
    "\n",
    "print(confusion_matrix(y_test, y_pred))\n",
    "print(classification_report(y_test, y_pred))"
   ]
  },
  {
   "cell_type": "code",
   "execution_count": 27,
   "id": "789e69f7",
   "metadata": {},
   "outputs": [
    {
     "data": {
      "text/plain": [
       "84    1\n",
       "55    1\n",
       "66    1\n",
       "67    1\n",
       "45    1\n",
       "39    6\n",
       "22    1\n",
       "44    1\n",
       "10    1\n",
       "0     1\n",
       "18    4\n",
       "30    6\n",
       "97    6\n",
       "33    2\n",
       "77    7\n",
       "4     1\n",
       "93    1\n",
       "78    2\n",
       "12    4\n",
       "31    1\n",
       "76    3\n",
       "Name: 17, dtype: int64"
      ]
     },
     "execution_count": 27,
     "metadata": {},
     "output_type": "execute_result"
    }
   ],
   "source": [
    "y_test"
   ]
  }
 ],
 "metadata": {
  "kernelspec": {
   "display_name": "Python 3",
   "language": "python",
   "name": "python3"
  },
  "language_info": {
   "codemirror_mode": {
    "name": "ipython",
    "version": 3
   },
   "file_extension": ".py",
   "mimetype": "text/x-python",
   "name": "python",
   "nbconvert_exporter": "python",
   "pygments_lexer": "ipython3",
   "version": "3.8.8"
  }
 },
 "nbformat": 4,
 "nbformat_minor": 5
}
